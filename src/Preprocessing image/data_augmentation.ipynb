{
 "cells": [
  {
   "cell_type": "code",
   "execution_count": null,
   "id": "45f42c83",
   "metadata": {},
   "outputs": [],
   "source": [
    "import pathlib\n",
    "import matplotlib.pyplot as plt\n",
    "import numpy as np\n",
    "import os\n",
    "import sys \n",
    "sys.path.append('..')\n",
    "from tools import *"
   ]
  },
  {
   "cell_type": "markdown",
   "id": "d6274227",
   "metadata": {},
   "source": [
    "### Variables"
   ]
  },
  {
   "cell_type": "code",
   "execution_count": null,
   "id": "5c715df1",
   "metadata": {},
   "outputs": [],
   "source": [
    "in_data_path = r\"C:\\Users\\33649\\Documents\\ROI Database\\NIR\" # personal path\n",
    "out_data_path = \"Augmented_data/%s\"\n",
    "pref_img_name = \"Image_%s.jpg\"\n",
    "wd_sep = \"\\\\\"\n",
    "ln_sep = \"/\"\n",
    "sep = wd_sep"
   ]
  },
  {
   "cell_type": "code",
   "execution_count": null,
   "id": "489f7529",
   "metadata": {},
   "outputs": [],
   "source": [
    "for path in pathlib.Path(in_data_path).iterdir():\n",
    "    i=1\n",
    "    for path2 in pathlib.Path(path).iterdir():\n",
    "        img=cv2.imread(r\"%s\"%path2)\n",
    "        \n",
    "        img=increase_contrast(cv2.cvtColor(img, cv2.COLOR_BGR2HLS))\n",
    "        try:\n",
    "            os.mkdir(out_data_path%str(path).split(sep)[-1])\n",
    "        except:\n",
    "            \"\"\n",
    "        plt.imsave(\"Augmented_data/%s/Image_%s.jpg\"%(str(path).split(sep)[-1],i),sp_noise(img,0.05))\n",
    "        i+=1\n",
    "        plt.imsave(\"Augmented_data/%s/Image_%s.jpg\"%(str(path).split(sep)[-1],i),increase_brightness(img))\n",
    "        i+=1\n",
    "        plt.imsave(\"Augmented_data/%s/Image_%s.jpg\"%(str(path).split(sep)[-1],i),decrease_brightness(img))\n",
    "        i+=1\n",
    "        plt.imsave(\"Augmented_data/%s/Image_%s.jpg\"%(str(path).split(sep)[-1],i),flip(img,1))\n",
    "        i+=1\n",
    "        plt.imsave(\"Augmented_data/%s/Image_%s.jpg\"%(str(path).split(sep)[-1],i),flip(img,-1))\n",
    "        i+=1\n",
    "        plt.imsave(\"Augmented_data/%s/Image_%s.jpg\"%(str(path).split(sep)[-1],i),blur(img))\n",
    "       \n",
    "       \n",
    "        "
   ]
  }
 ],
 "metadata": {
  "kernelspec": {
   "display_name": "Python 3 (ipykernel)",
   "language": "python",
   "name": "python3"
  },
  "language_info": {
   "codemirror_mode": {
    "name": "ipython",
    "version": 3
   },
   "file_extension": ".py",
   "mimetype": "text/x-python",
   "name": "python",
   "nbconvert_exporter": "python",
   "pygments_lexer": "ipython3",
   "version": "3.8.10"
  }
 },
 "nbformat": 4,
 "nbformat_minor": 5
}
