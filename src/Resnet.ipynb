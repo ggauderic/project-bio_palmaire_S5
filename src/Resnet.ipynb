{
 "cells": [
  {
   "cell_type": "code",
   "execution_count": 16,
   "id": "4a21153e",
   "metadata": {},
   "outputs": [],
   "source": [
    "import tensorflow as tf\n",
    "from tensorflow import keras\n",
    "import pathlib\n",
    "import matplotlib.pyplot as plt\n",
    "import numpy as np\n",
    "from sklearn.model_selection import train_test_split"
   ]
  },
  {
   "cell_type": "code",
   "execution_count": 27,
   "id": "d2f0576f",
   "metadata": {},
   "outputs": [],
   "source": [
    "img_shape = (128,128,3)\n",
    "num_classes = 5"
   ]
  },
  {
   "cell_type": "code",
   "execution_count": 29,
   "id": "70010fec",
   "metadata": {},
   "outputs": [],
   "source": [
    "X=[]\n",
    "y=[]\n",
    "for path in pathlib.Path(r\"data/data_bis/\").iterdir():\n",
    "    for path2 in pathlib.Path(path).iterdir():\n",
    "        index = int(str(path).split(\"\\\\\")[-1])-1\n",
    "        image=np.array(plt.imread(path2))\n",
    "        X.append(list(image))\n",
    "        matrix=np.zeros((num_classes,))\n",
    "        matrix[index] = 1\n",
    "        y.append(matrix)\n",
    "\n",
    "X=np.array(X)\n",
    "y=np.array(y)\n",
    "           \n",
    "X_train, X_test, y_train, y_test = train_test_split(X, y, test_size=0.01, random_state=42)"
   ]
  },
  {
   "cell_type": "code",
   "execution_count": 30,
   "id": "637d7741",
   "metadata": {},
   "outputs": [],
   "source": [
    "base_model = keras.applications.resnet50.ResNet50(\n",
    "    weights='imagenet',\n",
    "    input_shape=img_shape,\n",
    "    include_top=False)\n",
    "\n",
    "base_model.trainable = False"
   ]
  },
  {
   "cell_type": "code",
   "execution_count": 31,
   "id": "b8bb4560",
   "metadata": {},
   "outputs": [],
   "source": [
    "inputs = keras.Input(shape=img_shape)\n",
    "x = tf.cast(inputs, tf.float32)\n",
    "x = tf.keras.applications.resnet50.preprocess_input(x)"
   ]
  },
  {
   "cell_type": "code",
   "execution_count": 32,
   "id": "1522dfc0",
   "metadata": {},
   "outputs": [],
   "source": [
    "x = base_model(x, training=False)\n",
    "x = keras.layers.GlobalAveragePooling2D()(x)\n",
    "x = keras.layers.Dropout(0.2)(x)\n",
    "outputs = keras.layers.Dense(num_classes)(x)\n",
    "model = keras.Model(inputs, outputs)"
   ]
  },
  {
   "cell_type": "code",
   "execution_count": 33,
   "id": "3c903004",
   "metadata": {},
   "outputs": [
    {
     "name": "stdout",
     "output_type": "stream",
     "text": [
      "Epoch 1/10\n",
      "10/10 [==============================] - 10s 711ms/step - loss: 0.5741 - binary_accuracy: 0.7748 - val_loss: 0.4267 - val_binary_accuracy: 0.8000\n",
      "Epoch 2/10\n",
      "10/10 [==============================] - 6s 593ms/step - loss: 0.4195 - binary_accuracy: 0.8173 - val_loss: 0.2413 - val_binary_accuracy: 0.9000\n",
      "Epoch 3/10\n",
      "10/10 [==============================] - 6s 596ms/step - loss: 0.3159 - binary_accuracy: 0.8605 - val_loss: 0.2023 - val_binary_accuracy: 0.9000\n",
      "Epoch 4/10\n",
      "10/10 [==============================] - 6s 603ms/step - loss: 0.2569 - binary_accuracy: 0.8664 - val_loss: 0.1758 - val_binary_accuracy: 0.9000\n",
      "Epoch 5/10\n",
      "10/10 [==============================] - 6s 597ms/step - loss: 0.2136 - binary_accuracy: 0.9003 - val_loss: 0.1351 - val_binary_accuracy: 0.9500\n",
      "Epoch 6/10\n",
      "10/10 [==============================] - 6s 609ms/step - loss: 0.1835 - binary_accuracy: 0.9189 - val_loss: 0.1336 - val_binary_accuracy: 0.9500\n",
      "Epoch 7/10\n",
      "10/10 [==============================] - 7s 716ms/step - loss: 0.1682 - binary_accuracy: 0.9223 - val_loss: 0.1220 - val_binary_accuracy: 0.9500\n",
      "Epoch 8/10\n",
      "10/10 [==============================] - 7s 730ms/step - loss: 0.1473 - binary_accuracy: 0.9422 - val_loss: 0.1077 - val_binary_accuracy: 0.9500\n",
      "Epoch 9/10\n",
      "10/10 [==============================] - 7s 707ms/step - loss: 0.1330 - binary_accuracy: 0.9548 - val_loss: 0.1056 - val_binary_accuracy: 0.9500\n",
      "Epoch 10/10\n",
      "10/10 [==============================] - 7s 730ms/step - loss: 0.1252 - binary_accuracy: 0.9548 - val_loss: 0.0972 - val_binary_accuracy: 0.9500\n"
     ]
    }
   ],
   "source": [
    "model.compile(optimizer='adam', loss=tf.keras.losses.BinaryCrossentropy(from_logits=True),metrics=keras.metrics.BinaryAccuracy())\n",
    "hist = model.fit(X_train, y_train,epochs=10,validation_data=(X_test,y_test))"
   ]
  },
  {
   "cell_type": "code",
   "execution_count": 43,
   "id": "e14c9b79",
   "metadata": {
    "scrolled": true
   },
   "outputs": [
    {
     "name": "stdout",
     "output_type": "stream",
     "text": [
      "1/1 [==============================] - 0s 134ms/step\n",
      "3\n",
      "3\n",
      "2\n",
      "5\n"
     ]
    }
   ],
   "source": [
    "for k in np.round(model.predict(X_test)):\n",
    "    print(list(k).index(max(k))+1)"
   ]
  },
  {
   "cell_type": "code",
   "execution_count": 40,
   "id": "59f176e1",
   "metadata": {},
   "outputs": [
    {
     "data": {
      "text/plain": [
       "array([[0., 0., 1., 0., 0.],\n",
       "       [0., 0., 1., 0., 0.],\n",
       "       [0., 1., 0., 0., 0.],\n",
       "       [0., 0., 0., 0., 1.]])"
      ]
     },
     "execution_count": 40,
     "metadata": {},
     "output_type": "execute_result"
    }
   ],
   "source": [
    "y_test"
   ]
  }
 ],
 "metadata": {
  "kernelspec": {
   "display_name": "Python 3 (ipykernel)",
   "language": "python",
   "name": "python3"
  },
  "language_info": {
   "codemirror_mode": {
    "name": "ipython",
    "version": 3
   },
   "file_extension": ".py",
   "mimetype": "text/x-python",
   "name": "python",
   "nbconvert_exporter": "python",
   "pygments_lexer": "ipython3",
   "version": "3.9.13"
  }
 },
 "nbformat": 4,
 "nbformat_minor": 5
}
