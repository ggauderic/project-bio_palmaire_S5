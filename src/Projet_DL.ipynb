{
 "cells": [
  {
   "cell_type": "code",
   "execution_count": 1,
   "id": "2f573462",
   "metadata": {},
   "outputs": [],
   "source": [
    "import matplotlib.pyplot as plt\n",
    "from keras.models import Sequential\n",
    "from keras.layers import Dense\n",
    "from keras.layers import MaxPooling2D\n",
    "from keras.layers import Conv2D, Flatten\n",
    "import cv2\n",
    "import pathlib\n",
    "import numpy as np\n",
    "from sklearn.model_selection import train_test_split\n",
    "from keras.callbacks import EarlyStopping,ModelCheckpoint\n",
    "from tqdm import tqdm"
   ]
  },
  {
   "cell_type": "code",
   "execution_count": 39,
   "id": "687c4e26",
   "metadata": {
    "scrolled": true
   },
   "outputs": [],
   "source": [
    "def increase_contrast(img):\n",
    "    clahe = cv2.createCLAHE(clipLimit=50., tileGridSize=(8,8))\n",
    "    lab = cv2.cvtColor(img, cv2.COLOR_BGR2LAB)  # convert from BGR to LAB color space\n",
    "    l, a, b = cv2.split(lab)  # split on 3 different channels\n",
    "    l2 = clahe.apply(l)  # apply CLAHE to the L-channel\n",
    "    lab = cv2.merge((l2,a,b))  # merge channels\n",
    "    img = cv2.cvtColor(lab, cv2.COLOR_LAB2BGR)  # convert from LAB to BGR\n",
    "    return img \n",
    "\n",
    "def Preprocessing(image):\n",
    "    matrix=[]\n",
    "    image=cv2.imread(r\"%s\"%image)\n",
    "    image=increase_contrast(cv2.cvtColor(image, cv2.COLOR_BGR2HLS))\n",
    "    for k in range(len(image)-1):\n",
    "        matrix.append(np.round(np.array([image[k][k],image[k][k+1],image[k+1][k],image[k+1][k+1]]).mean()))\n",
    "    return matrix\n"
   ]
  },
  {
   "cell_type": "code",
   "execution_count": 40,
   "id": "d4cb9b9c",
   "metadata": {},
   "outputs": [],
   "source": [
    "model=Sequential()\n",
    "model.add(Dense(2048, input_shape=(127,), activation='relu'))\n",
    "model.add(Dense(1024, activation='relu'))\n",
    "model.add(Dense(500, activation='softmax'))\n",
    "model.compile(loss='categorical_crossentropy', optimizer='adam', metrics=['accuracy'])"
   ]
  },
  {
   "cell_type": "code",
   "execution_count": 41,
   "id": "8bb3d181",
   "metadata": {},
   "outputs": [],
   "source": [
    "X=[]\n",
    "y=[]\n",
    "for path in pathlib.Path(r\"C:\\Users\\33649\\Documents\\ROI Database\\NIR\").iterdir():\n",
    "    for path2 in pathlib.Path(path).iterdir():\n",
    "        X.append(Preprocessing(path2))\n",
    "        matrix=np.zeros((500,)) ;matrix[int(str(path).split(\"\\\\\")[-1])-1] = 1\n",
    "        y.append(matrix)"
   ]
  },
  {
   "cell_type": "code",
   "execution_count": 42,
   "id": "f5f70c30",
   "metadata": {},
   "outputs": [
    {
     "data": {
      "text/plain": [
       "(5940, 127)"
      ]
     },
     "execution_count": 42,
     "metadata": {},
     "output_type": "execute_result"
    }
   ],
   "source": [
    "early_stopping=EarlyStopping(monitor='val_accuracy', patience=25)\n",
    "#modelcheckpoint=ModelCheckpoint('out/other_identification_model.hdf5', monitor='val_accuracy', save_best_only=True)\n",
    "\n",
    "X=np.array(X)\n",
    "y=np.array(y)\n",
    "X_train, X_test, y_train, y_test = train_test_split(X, y, test_size=0.01, random_state=42)\n",
    "X_train.shape"
   ]
  },
  {
   "cell_type": "code",
   "execution_count": 43,
   "id": "f59db388",
   "metadata": {
    "scrolled": true
   },
   "outputs": [
    {
     "name": "stdout",
     "output_type": "stream",
     "text": [
      "Epoch 1/50\n",
      "188/188 [==============================] - 7s 33ms/step - loss: 11.6142 - accuracy: 0.1277 - val_loss: 2.2796 - val_accuracy: 0.4833\n",
      "Epoch 2/50\n",
      "188/188 [==============================] - 6s 33ms/step - loss: 1.6497 - accuracy: 0.5973 - val_loss: 0.8524 - val_accuracy: 0.7167\n",
      "Epoch 3/50\n",
      "188/188 [==============================] - 6s 34ms/step - loss: 0.9275 - accuracy: 0.7577 - val_loss: 0.4343 - val_accuracy: 0.8833\n",
      "Epoch 4/50\n",
      "188/188 [==============================] - 6s 33ms/step - loss: 0.6725 - accuracy: 0.8205 - val_loss: 0.3054 - val_accuracy: 0.9000\n",
      "Epoch 5/50\n",
      "188/188 [==============================] - 6s 32ms/step - loss: 0.4946 - accuracy: 0.8545 - val_loss: 0.3273 - val_accuracy: 0.9000\n",
      "Epoch 6/50\n",
      "188/188 [==============================] - 6s 32ms/step - loss: 0.4250 - accuracy: 0.8775 - val_loss: 0.5235 - val_accuracy: 0.8167\n",
      "Epoch 7/50\n",
      "188/188 [==============================] - 6s 32ms/step - loss: 0.4517 - accuracy: 0.8695 - val_loss: 0.1530 - val_accuracy: 0.9167\n",
      "Epoch 8/50\n",
      "188/188 [==============================] - 6s 32ms/step - loss: 0.4794 - accuracy: 0.8712 - val_loss: 0.5350 - val_accuracy: 0.8833\n",
      "Epoch 9/50\n",
      "188/188 [==============================] - 6s 34ms/step - loss: 0.3591 - accuracy: 0.8958 - val_loss: 0.5261 - val_accuracy: 0.9000\n",
      "Epoch 10/50\n",
      "188/188 [==============================] - 6s 34ms/step - loss: 0.3706 - accuracy: 0.9013 - val_loss: 0.1334 - val_accuracy: 0.9667\n",
      "Epoch 11/50\n",
      "188/188 [==============================] - 6s 33ms/step - loss: 0.2810 - accuracy: 0.9232 - val_loss: 0.0992 - val_accuracy: 1.0000\n",
      "Epoch 12/50\n",
      "188/188 [==============================] - 6s 33ms/step - loss: 0.3998 - accuracy: 0.8917 - val_loss: 0.1733 - val_accuracy: 0.9333\n",
      "Epoch 13/50\n",
      "188/188 [==============================] - 6s 34ms/step - loss: 0.3680 - accuracy: 0.9053 - val_loss: 0.3265 - val_accuracy: 0.9167\n",
      "Epoch 14/50\n",
      "188/188 [==============================] - 6s 33ms/step - loss: 0.3265 - accuracy: 0.9150 - val_loss: 0.2161 - val_accuracy: 0.9167\n",
      "Epoch 15/50\n",
      "188/188 [==============================] - 6s 31ms/step - loss: 0.2927 - accuracy: 0.9265 - val_loss: 0.5262 - val_accuracy: 0.9167\n",
      "Epoch 16/50\n",
      "188/188 [==============================] - 6s 31ms/step - loss: 0.3689 - accuracy: 0.9135 - val_loss: 0.1644 - val_accuracy: 0.9667\n",
      "Epoch 17/50\n",
      "188/188 [==============================] - 6s 31ms/step - loss: 0.2624 - accuracy: 0.9313 - val_loss: 0.1950 - val_accuracy: 0.9500\n",
      "Epoch 18/50\n",
      "188/188 [==============================] - 6s 31ms/step - loss: 0.2073 - accuracy: 0.9477 - val_loss: 0.2937 - val_accuracy: 0.9500\n",
      "Epoch 19/50\n",
      "188/188 [==============================] - 6s 30ms/step - loss: 0.3521 - accuracy: 0.9235 - val_loss: 0.4622 - val_accuracy: 0.8833\n",
      "Epoch 20/50\n",
      "188/188 [==============================] - 6s 34ms/step - loss: 0.4341 - accuracy: 0.9085 - val_loss: 0.4829 - val_accuracy: 0.8833\n",
      "Epoch 21/50\n",
      "188/188 [==============================] - 6s 32ms/step - loss: 0.2473 - accuracy: 0.9413 - val_loss: 0.4073 - val_accuracy: 0.9667\n",
      "Epoch 22/50\n",
      "188/188 [==============================] - 6s 32ms/step - loss: 0.2779 - accuracy: 0.9428 - val_loss: 0.2799 - val_accuracy: 0.9500\n",
      "Epoch 23/50\n",
      "188/188 [==============================] - 6s 32ms/step - loss: 0.3180 - accuracy: 0.9298 - val_loss: 0.1924 - val_accuracy: 0.9667\n",
      "Epoch 24/50\n",
      "188/188 [==============================] - 6s 33ms/step - loss: 0.3449 - accuracy: 0.9318 - val_loss: 0.3019 - val_accuracy: 0.9667\n",
      "Epoch 25/50\n",
      "188/188 [==============================] - 6s 31ms/step - loss: 0.3735 - accuracy: 0.9280 - val_loss: 0.1014 - val_accuracy: 0.9500\n",
      "Epoch 26/50\n",
      "188/188 [==============================] - 6s 31ms/step - loss: 0.2263 - accuracy: 0.9512 - val_loss: 0.1459 - val_accuracy: 0.9500\n",
      "Epoch 27/50\n",
      "188/188 [==============================] - 6s 32ms/step - loss: 0.2829 - accuracy: 0.9482 - val_loss: 0.0319 - val_accuracy: 0.9833\n",
      "Epoch 28/50\n",
      "188/188 [==============================] - 7s 37ms/step - loss: 0.3229 - accuracy: 0.9450 - val_loss: 0.7549 - val_accuracy: 0.9167\n",
      "Epoch 29/50\n",
      "188/188 [==============================] - 6s 33ms/step - loss: 0.2475 - accuracy: 0.9545 - val_loss: 0.0834 - val_accuracy: 0.9833\n",
      "Epoch 30/50\n",
      "188/188 [==============================] - 6s 31ms/step - loss: 0.3335 - accuracy: 0.9438 - val_loss: 0.3478 - val_accuracy: 0.9333\n",
      "Epoch 31/50\n",
      "188/188 [==============================] - 6s 32ms/step - loss: 0.2813 - accuracy: 0.9530 - val_loss: 0.0292 - val_accuracy: 0.9833\n",
      "Epoch 32/50\n",
      "188/188 [==============================] - 7s 36ms/step - loss: 0.3467 - accuracy: 0.9460 - val_loss: 0.5035 - val_accuracy: 0.9167\n",
      "Epoch 33/50\n",
      "188/188 [==============================] - 6s 33ms/step - loss: 0.4285 - accuracy: 0.9342 - val_loss: 0.7201 - val_accuracy: 0.8833\n",
      "Epoch 34/50\n",
      "188/188 [==============================] - 6s 34ms/step - loss: 0.3457 - accuracy: 0.9485 - val_loss: 0.1448 - val_accuracy: 0.9833\n",
      "Epoch 35/50\n",
      "188/188 [==============================] - 6s 32ms/step - loss: 0.3082 - accuracy: 0.9565 - val_loss: 0.1579 - val_accuracy: 0.9500\n",
      "Epoch 36/50\n",
      "188/188 [==============================] - 6s 34ms/step - loss: 0.1529 - accuracy: 0.9757 - val_loss: 0.1849 - val_accuracy: 0.9833\n",
      "Done\n"
     ]
    }
   ],
   "source": [
    "h=model.fit(X, y, epochs=50, validation_data=(X_test, y_test),callbacks=[early_stopping], verbose=1)\n",
    "print(\"Done\")"
   ]
  },
  {
   "cell_type": "code",
   "execution_count": 45,
   "id": "e572f2bd",
   "metadata": {},
   "outputs": [
    {
     "data": {
      "image/png": "[encoded data removed]",
      "text/plain": [
       "<Figure size 432x288 with 1 Axes>"
      ]
     },
     "metadata": {
      "needs_background": "light"
     },
     "output_type": "display_data"
    },
    {
     "data": {
      "image/png": "[encoded data removed]",
      "text/plain": [
       "<Figure size 432x288 with 1 Axes>"
      ]
     },
     "metadata": {
      "needs_background": "light"
     },
     "output_type": "display_data"
    },
    {
     "name": "stdout",
     "output_type": "stream",
     "text": [
      "model accuracy :  0.9833\n"
     ]
    }
   ],
   "source": [
    "def plot_loss(loss,val_loss):\n",
    "    plt.figure()\n",
    "    plt.plot(loss)\n",
    "    plt.plot(val_loss)\n",
    "    plt.title('Model loss')\n",
    "    plt.ylabel('Loss')\n",
    "    plt.xlabel('Epoch')\n",
    "    plt.legend(['Train', 'Test'], loc='upper right')  \n",
    "    plt.show()\n",
    "    \n",
    "# accuracy plot function    \n",
    "def plot_accuracy(acc,val_acc):\n",
    "    # Plot training & validation accuracy values\n",
    "    plt.figure()\n",
    "    plt.plot(acc)\n",
    "    plt.plot(val_acc)\n",
    "    plt.title('Model accuracy')\n",
    "    plt.ylabel('Accuracy')\n",
    "    plt.xlabel('Epoch')\n",
    "    plt.legend(['Train', 'Test'], loc='upper left')\n",
    "    plt.show()\n",
    "\n",
    "# plot loss and accuracy curves\n",
    "plot_loss(h.history['loss'], h.history['val_loss'])\n",
    "plot_accuracy(h.history['accuracy'], h.history['val_accuracy'])\n",
    "print('model accuracy : ', np.round(model.evaluate(X_test, y_test, verbose=0)[1],4))"
   ]
  },
  {
   "cell_type": "code",
   "execution_count": 48,
   "id": "8755d311",
   "metadata": {},
   "outputs": [
    {
     "data": {
      "text/plain": [
       "145"
      ]
     },
     "execution_count": 48,
     "metadata": {},
     "output_type": "execute_result"
    }
   ],
   "source": [
    "compt=0\n",
    "for k in range(150):\n",
    "    #print(list(np.round(model.predict(X_test,verbose=0)[k])).index(1),list(y_test[k]).index(1))\n",
    "    if list(np.round(model.predict(X,verbose=0)[k])).index(1)==list(y[k]).index(1):\n",
    "        compt+=1\n",
    "compt"
   ]
  },
  {
   "cell_type": "code",
   "execution_count": 49,
   "id": "eb9e2aa0",
   "metadata": {},
   "outputs": [
    {
     "data": {
      "text/plain": [
       "398"
      ]
     },
     "execution_count": 49,
     "metadata": {},
     "output_type": "execute_result"
    }
   ],
   "source": [
    "test=[]\n",
    "path=r\"C:\\Users\\33649\\Documents\\ROI Database\\NIR\\0398\\1_05_s.jpg\"\n",
    "test.append(Preprocessing(path))\n",
    "list(np.round(model.predict(np.array(test),verbose=0)[0])).index(1)+1"
   ]
  },
  {
   "cell_type": "code",
   "execution_count": 56,
   "id": "eec03eea",
   "metadata": {},
   "outputs": [
    {
     "name": "stdout",
     "output_type": "stream",
     "text": [
      "C'est la personne n° 456\n"
     ]
    }
   ],
   "source": [
    "from keras.models import load_model\n",
    "import warnings\n",
    "warnings.filterwarnings('ignore')\n",
    "\n",
    "best_model=load_model('out/best_identification_model.hdf5')\n",
    "\n",
    "test=[]\n",
    "path=r\"C:\\Users\\33649\\Documents\\ROI Database\\NIR\\0456\\1_04_s.jpg\"\n",
    "test.append(Preprocessing(path))\n",
    "\n",
    "print(\"C'est la personne n°\", list(np.round(best_model.predict(np.array(test),verbose=0)[0])).index(1)+1)"
   ]
  },
  {
   "cell_type": "code",
   "execution_count": 50,
   "id": "3dd9b0a6",
   "metadata": {},
   "outputs": [
    {
     "ename": "NameError",
     "evalue": "name 'best_model' is not defined",
     "output_type": "error",
     "traceback": [
      "\u001b[1;31m---------------------------------------------------------------------------\u001b[0m",
      "\u001b[1;31mNameError\u001b[0m                                 Traceback (most recent call last)",
      "Input \u001b[1;32mIn [50]\u001b[0m, in \u001b[0;36m<cell line: 1>\u001b[1;34m()\u001b[0m\n\u001b[1;32m----> 1\u001b[0m \u001b[43mbest_model\u001b[49m\u001b[38;5;241m.\u001b[39mget_weights()\n",
      "\u001b[1;31mNameError\u001b[0m: name 'best_model' is not defined"
     ]
    }
   ],
   "source": [
    "best_model.get_weights()"
   ]
  },
  {
   "cell_type": "code",
   "execution_count": 7,
   "id": "7f40260b",
   "metadata": {},
   "outputs": [
    {
     "data": {
      "text/plain": [
       "'ade.lib;opencv_aruco450.lib;opencv_bgsegm450.lib;opencv_bioinspired450.lib;opencv_calib3d450.lib;opencv_ccalib450.lib;opencv_core450.lib;opencv_datasets450.lib;opencv_dnn450.lib;opencv_dnn_objdetect450.lib;opencv_dnn_superres450.lib;opencv_dpm450.lib;opencv_face450.lib;opencv_features2d450.lib;opencv_flann450.lib;opencv_fuzzy450.lib;opencv_gapi450.lib;opencv_hfs450.lib;opencv_highgui450.lib;opencv_imgcodecs450.lib;opencv_imgproc450.lib;opencv_img_hash450.lib;opencv_intensity_transform450.lib;opencv_line_descriptor450.lib;opencv_mcc450.lib;opencv_ml450.lib;opencv_objdetect450.lib;opencv_optflow450.lib;opencv_phase_unwrapping450.lib;opencv_photo450.lib;opencv_plot450.lib;opencv_quality450.lib;opencv_rapid450.lib;opencv_reg450.lib;opencv_rgbd450.lib;opencv_saliency450.lib;opencv_shape450.lib;opencv_stereo450.lib;opencv_stitching450.lib;opencv_structured_light450.lib;opencv_superres450.lib;opencv_surface_matching450.lib;opencv_text450.lib;opencv_tracking450.lib;opencv_ts450.lib;opencv_video450.lib;opencv_videoio450.lib;opencv_videostab450.lib;opencv_xfeatures2d450.lib;opencv_ximgproc450.lib;opencv_xobjdetect450.lib;opencv_xphoto450.lib;'"
      ]
     },
     "execution_count": 7,
     "metadata": {},
     "output_type": "execute_result"
    }
   ],
   "source": [
    "msg=\"\"\n",
    "for path in pathlib.Path(r\"C:\\Program Files (x86)\\Microsoft Visual Studio\\OpenCV450-VS2019x64\\lib\").iterdir():\n",
    "    msg+=(str(path).split(\"\\\\\")[-1])+\";\"\n",
    "msg"
   ]
  },
  {
   "cell_type": "code",
   "execution_count": 2,
   "id": "68d5b32d",
   "metadata": {},
   "outputs": [
    {
     "name": "stderr",
     "output_type": "stream",
     "text": [
      "C:\\Users\\33649\\AppData\\Local\\Temp\\ipykernel_12120\\2025129741.py:2: UserWarning: Fuck off\n",
      "  warnings.warn(\"Fuck off\")\n"
     ]
    }
   ],
   "source": [
    "import warnings\n",
    "warnings.warn(\"Fuck off\")"
   ]
  }
 ],
 "metadata": {
  "kernelspec": {
   "display_name": "Python 3 (ipykernel)",
   "language": "python",
   "name": "python3"
  },
  "language_info": {
   "codemirror_mode": {
    "name": "ipython",
    "version": 3
   },
   "file_extension": ".py",
   "mimetype": "text/x-python",
   "name": "python",
   "nbconvert_exporter": "python",
   "pygments_lexer": "ipython3",
   "version": "3.9.12"
  }
 },
 "nbformat": 4,
 "nbformat_minor": 5
}
