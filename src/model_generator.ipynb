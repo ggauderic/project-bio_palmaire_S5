{
 "cells": [
  {
   "cell_type": "code",
   "execution_count": 6,
   "id": "92e121ee",
   "metadata": {},
   "outputs": [],
   "source": [
    "import tensorflow as tf\n",
    "from tensorflow import keras\n",
    "import pathlib\n",
    "import matplotlib.pyplot as plt\n",
    "import numpy as np\n",
    "from sklearn.model_selection import train_test_split\n",
    "import tools as t\n",
    "from keras.callbacks import ModelCheckpoint"
   ]
  },
  {
   "cell_type": "markdown",
   "id": "93bee663",
   "metadata": {},
   "source": [
    "### Variables"
   ]
  },
  {
   "cell_type": "code",
   "execution_count": 2,
   "id": "d98b0653",
   "metadata": {},
   "outputs": [],
   "source": [
    "img_shape = (128,128,3)\n",
    "num_classes = 500\n",
    "data_path = r\"../data/\" # personnal data_path\n",
    "wd_sep = \"\\\\\" # window separator\n",
    "ln_sep = \"/\" # linux separator"
   ]
  },
  {
   "cell_type": "markdown",
   "id": "a8611b3c",
   "metadata": {},
   "source": [
    "### Definitions"
   ]
  },
  {
   "cell_type": "code",
   "execution_count": 3,
   "id": "d1e10833",
   "metadata": {},
   "outputs": [],
   "source": [
    "def add_top_layers(base_model, img_shape, num_classes):\n",
    "    inputs = keras.Input(shape=img_shape)\n",
    "    x = tf.cast(inputs, tf.float32)\n",
    "    x = tf.keras.applications.resnet50.preprocess_input(x)\n",
    "    x = base_model(x, training=False)\n",
    "    x = keras.layers.GlobalAveragePooling2D()(x)\n",
    "    x = keras.layers.Dropout(0.2)(x)\n",
    "    outputs = keras.layers.Dense(num_classes)(x)\n",
    "    model = keras.Model(inputs, outputs)\n",
    "    return model"
   ]
  },
  {
   "cell_type": "markdown",
   "id": "67359e24",
   "metadata": {},
   "source": [
    "### Data"
   ]
  },
  {
   "cell_type": "code",
   "execution_count": 8,
   "id": "e6eea4a6",
   "metadata": {},
   "outputs": [],
   "source": [
    "X_train, X_test, y_train, y_test = t.get_train_test_split(data_path, num_classes, ln_sep)"
   ]
  },
  {
   "cell_type": "markdown",
   "id": "7db17704",
   "metadata": {},
   "source": [
    "### Save point"
   ]
  },
  {
   "cell_type": "code",
   "execution_count": 21,
   "id": "c7a66307",
   "metadata": {},
   "outputs": [],
   "source": [
    "modelcheckpoint_mobileNetV2 = ModelCheckpoint('models/mobileNetV2.hdf5', monitor='binary_accuracy', save_best_only=True)\n",
    "\n",
    "modelcheckpoint_resnet50 = ModelCheckpoint('models/resnet50.hdf5', monitor='binary_accuracy', save_best_only=True)\n",
    "modelcheckpoint_resnet101 = ModelCheckpoint('models/resnet101.hdf5', monitor='binary_accuracy', save_best_only=True)\n",
    "\n",
    "modelcheckpoint_vgg16 = ModelCheckpoint('models/vgg16.hdf5', monitor='binary_accuracy', save_best_only=True)\n",
    "modelcheckpoint_vgg19 = ModelCheckpoint('models/vgg19.hdf5', monitor='binary_accuracy', save_best_only=True)\n",
    "\n",
    "modelcheckpoint_xception = ModelCheckpoint('models/xception.hdf5', monitor='binary_accuracy', save_best_only=True)\n",
    "\n",
    "modelcheckpoint_inceptionV3 = ModelCheckpoint('models/inceptionV3.hdf5', monitor='binary_accuracy', save_best_only=True)\n",
    "\n",
    "modelcheckpoint_inceptionResNetV2 = ModelCheckpoint('models/inceptionResNetV2.hdf5', monitor='binary_accuracy', save_best_only=True)"
   ]
  },
  {
   "cell_type": "markdown",
   "id": "55336821",
   "metadata": {},
   "source": [
    "### MobileNetV2"
   ]
  },
  {
   "cell_type": "code",
   "execution_count": 19,
   "id": "75b05b8a",
   "metadata": {},
   "outputs": [
    {
     "name": "stdout",
     "output_type": "stream",
     "text": [
      "Downloading data from https://storage.googleapis.com/tensorflow/keras-applications/mobilenet_v2/mobilenet_v2_weights_tf_dim_ordering_tf_kernels_1.0_128_no_top.h5\n",
      "9406464/9406464 [==============================] - 1s 0us/step\n"
     ]
    }
   ],
   "source": [
    "mobileNetV2_model = keras.applications.mobilenet_v2.MobileNetV2(\n",
    "    weights='imagenet',\n",
    "    input_shape=img_shape,\n",
    "    include_top=False)\n",
    "mobileNetV2_model.trainable = False\n",
    "\n",
    "mobileNetV2_model = add_top_layers(mobileNetV2_model, img_shape, num_classes)"
   ]
  },
  {
   "cell_type": "code",
   "execution_count": 22,
   "id": "69ed2628",
   "metadata": {},
   "outputs": [
    {
     "name": "stdout",
     "output_type": "stream",
     "text": [
      "944/944 [==============================] - 76s 79ms/step - loss: 0.0176 - binary_accuracy: 0.9971 - val_loss: 0.0130 - val_binary_accuracy: 0.9980\n"
     ]
    }
   ],
   "source": [
    "mobileNetV2_model.compile(optimizer='adam', loss=tf.keras.losses.BinaryCrossentropy(from_logits=True),metrics=keras.metrics.BinaryAccuracy())\n",
    "hist0= mobileNetV2_model.fit(X_train, y_train,epochs=1,validation_data=(X_test,y_test), callbacks=[modelcheckpoint_mobileNetV2])"
   ]
  },
  {
   "cell_type": "markdown",
   "id": "d9a1f21e",
   "metadata": {},
   "source": [
    "### Resnet 50 and 101"
   ]
  },
  {
   "cell_type": "code",
   "execution_count": 9,
   "id": "bb1ab6ca",
   "metadata": {},
   "outputs": [
    {
     "name": "stderr",
     "output_type": "stream",
     "text": [
      "2022-12-15 11:15:53.986295: W tensorflow/stream_executor/platform/default/dso_loader.cc:64] Could not load dynamic library 'libcuda.so.1'; dlerror: libcuda.so.1: cannot open shared object file: No such file or directory\n",
      "2022-12-15 11:15:53.986314: W tensorflow/stream_executor/cuda/cuda_driver.cc:263] failed call to cuInit: UNKNOWN ERROR (303)\n",
      "2022-12-15 11:15:53.986330: I tensorflow/stream_executor/cuda/cuda_diagnostics.cc:156] kernel driver does not appear to be running on this host (m4-15): /proc/driver/nvidia/version does not exist\n",
      "2022-12-15 11:15:53.986465: I tensorflow/core/platform/cpu_feature_guard.cc:193] This TensorFlow binary is optimized with oneAPI Deep Neural Network Library (oneDNN) to use the following CPU instructions in performance-critical operations:  AVX2 FMA\n",
      "To enable them in other operations, rebuild TensorFlow with the appropriate compiler flags.\n"
     ]
    }
   ],
   "source": [
    "resnet50_model = keras.applications.resnet50.ResNet50(\n",
    "    weights='imagenet',\n",
    "    input_shape=img_shape,\n",
    "    include_top=False)\n",
    "resnet101_model = keras.applications.resnet.ResNet101(\n",
    "    weights='imagenet',\n",
    "    input_shape=img_shape,\n",
    "    include_top=False)\n",
    "resnet50_model.trainable = False\n",
    "resnet101_model.trainable = False\n",
    "\n",
    "resnet50_model = add_top_layers(resnet50_model, img_shape, num_classes)\n",
    "resnet101_model = add_top_layers(resnet101_model, img_shape, num_classes)"
   ]
  },
  {
   "cell_type": "code",
   "execution_count": 13,
   "id": "bb5ae4dc",
   "metadata": {},
   "outputs": [
    {
     "name": "stdout",
     "output_type": "stream",
     "text": [
      "944/944 [==============================] - 290s 305ms/step - loss: 0.0086 - binary_accuracy: 0.9982 - val_loss: 0.0056 - val_binary_accuracy: 0.9984\n",
      "944/944 [==============================] - 502s 528ms/step - loss: 0.0169 - binary_accuracy: 0.9971 - val_loss: 0.0089 - val_binary_accuracy: 0.9981\n"
     ]
    }
   ],
   "source": [
    "resnet50_model.compile(optimizer='adam', loss=tf.keras.losses.BinaryCrossentropy(from_logits=True),metrics=keras.metrics.BinaryAccuracy())\n",
    "hist1 = resnet50_model.fit(X_train, y_train,epochs=1,validation_data=(X_test,y_test), callbacks=[modelcheckpoint_resnet50])\n",
    "\n",
    "resnet101_model.compile(optimizer='adam', loss=tf.keras.losses.BinaryCrossentropy(from_logits=True),metrics=keras.metrics.BinaryAccuracy())\n",
    "hist2 = resnet101_model.fit(X_train, y_train,epochs=1,validation_data=(X_test,y_test), callbacks=[modelcheckpoint_resnet101])"
   ]
  },
  {
   "cell_type": "markdown",
   "id": "51e98cad",
   "metadata": {},
   "source": [
    "### VGG 16 and 19"
   ]
  },
  {
   "cell_type": "code",
   "execution_count": 10,
   "id": "6155411e",
   "metadata": {},
   "outputs": [],
   "source": [
    "vgg16_model = keras.applications.vgg16.VGG16(\n",
    "    weights='imagenet',\n",
    "    input_shape=img_shape,\n",
    "    include_top=False)\n",
    "vgg19_model = keras.applications.vgg19.VGG19(\n",
    "    weights='imagenet',\n",
    "    input_shape=img_shape,\n",
    "    include_top=False)\n",
    "vgg16_model.trainable = False\n",
    "vgg19_model.trainable = False\n",
    "\n",
    "vgg16_model = add_top_layers(vgg16_model, img_shape, num_classes)\n",
    "vgg19_model = add_top_layers(vgg19_model, img_shape, num_classes)"
   ]
  },
  {
   "cell_type": "code",
   "execution_count": 18,
   "id": "4d3d4c68",
   "metadata": {},
   "outputs": [
    {
     "name": "stdout",
     "output_type": "stream",
     "text": [
      "944/944 [==============================] - 694s 734ms/step - loss: 0.0305 - binary_accuracy: 0.9949 - val_loss: 0.0102 - val_binary_accuracy: 0.9981\n",
      "944/944 [==============================] - 873s 925ms/step - loss: 0.0285 - binary_accuracy: 0.9950 - val_loss: 0.0096 - val_binary_accuracy: 0.9982\n"
     ]
    }
   ],
   "source": [
    "vgg16_model.compile(optimizer='adam', loss=tf.keras.losses.BinaryCrossentropy(from_logits=True),metrics=keras.metrics.BinaryAccuracy())\n",
    "hist3= vgg16_model.fit(X_train, y_train,epochs=1,validation_data=(X_test,y_test), callbacks=[modelcheckpoint_vgg16])\n",
    "\n",
    "vgg19_model.compile(optimizer='adam', loss=tf.keras.losses.BinaryCrossentropy(from_logits=True),metrics=keras.metrics.BinaryAccuracy())\n",
    "hist4 = vgg19_model.fit(X_train, y_train,epochs=1,validation_data=(X_test,y_test), callbacks=[modelcheckpoint_vgg19])"
   ]
  },
  {
   "cell_type": "markdown",
   "id": "43404878",
   "metadata": {},
   "source": [
    "### Xception"
   ]
  },
  {
   "cell_type": "code",
   "execution_count": 17,
   "id": "05165fc7",
   "metadata": {},
   "outputs": [
    {
     "name": "stdout",
     "output_type": "stream",
     "text": [
      "Downloading data from https://storage.googleapis.com/tensorflow/keras-applications/xception/xception_weights_tf_dim_ordering_tf_kernels_notop.h5\n",
      "83683744/83683744 [==============================] - 7s 0us/step\n"
     ]
    }
   ],
   "source": [
    "xception_model = keras.applications.xception.Xception(\n",
    "    weights='imagenet',\n",
    "    input_shape=img_shape,\n",
    "    include_top=False)\n",
    "xception_model.trainable = False\n",
    "\n",
    "xception_model = add_top_layers(xception_model, img_shape, num_classes)"
   ]
  },
  {
   "cell_type": "code",
   "execution_count": 23,
   "id": "4a979522",
   "metadata": {},
   "outputs": [
    {
     "name": "stdout",
     "output_type": "stream",
     "text": [
      "944/944 [==============================] - 280s 295ms/step - loss: 0.0362 - binary_accuracy: 0.9963 - val_loss: 0.0196 - val_binary_accuracy: 0.9980\n"
     ]
    }
   ],
   "source": [
    "xception_model.compile(optimizer='adam', loss=tf.keras.losses.BinaryCrossentropy(from_logits=True),metrics=keras.metrics.BinaryAccuracy())\n",
    "hist5 = xception_model.fit(X_train, y_train,epochs=1,validation_data=(X_test,y_test), callbacks=[modelcheckpoint_xception])"
   ]
  },
  {
   "cell_type": "markdown",
   "id": "f27908d8",
   "metadata": {},
   "source": [
    "### InceptionV3"
   ]
  },
  {
   "cell_type": "code",
   "execution_count": 24,
   "id": "6cac4b7b",
   "metadata": {},
   "outputs": [
    {
     "name": "stdout",
     "output_type": "stream",
     "text": [
      "Downloading data from https://storage.googleapis.com/tensorflow/keras-applications/inception_v3/inception_v3_weights_tf_dim_ordering_tf_kernels_notop.h5\n",
      "87910968/87910968 [==============================] - 9s 0us/step\n"
     ]
    }
   ],
   "source": [
    "inceptionV3_model = keras.applications.inception_v3.InceptionV3(\n",
    "    weights='imagenet',\n",
    "    input_shape=img_shape,\n",
    "    include_top=False)\n",
    "inceptionV3_model.trainable = False\n",
    "\n",
    "inceptionV3_model = add_top_layers(inceptionV3_model, img_shape, num_classes)"
   ]
  },
  {
   "cell_type": "code",
   "execution_count": 25,
   "id": "903b396b",
   "metadata": {},
   "outputs": [
    {
     "name": "stdout",
     "output_type": "stream",
     "text": [
      "944/944 [==============================] - 129s 134ms/step - loss: 0.1807 - binary_accuracy: 0.9957 - val_loss: 0.1089 - val_binary_accuracy: 0.9977\n"
     ]
    }
   ],
   "source": [
    "inceptionV3_model.compile(optimizer='adam', loss=tf.keras.losses.BinaryCrossentropy(from_logits=True),metrics=keras.metrics.BinaryAccuracy())\n",
    "hist6= inceptionV3_model.fit(X_train, y_train,epochs=1,validation_data=(X_test,y_test), callbacks=[modelcheckpoint_inceptionV3])"
   ]
  },
  {
   "cell_type": "markdown",
   "id": "cfe60fdc",
   "metadata": {},
   "source": [
    "### InceptionResNetV2"
   ]
  },
  {
   "cell_type": "code",
   "execution_count": 26,
   "id": "33665cc1",
   "metadata": {},
   "outputs": [
    {
     "name": "stdout",
     "output_type": "stream",
     "text": [
      "Downloading data from https://storage.googleapis.com/tensorflow/keras-applications/inception_resnet_v2/inception_resnet_v2_weights_tf_dim_ordering_tf_kernels_notop.h5\n",
      "219055592/219055592 [==============================] - 19s 0us/step\n"
     ]
    }
   ],
   "source": [
    "inception_resnetV2_model = keras.applications.inception_resnet_v2.InceptionResNetV2(\n",
    "    weights='imagenet',\n",
    "    input_shape=img_shape,\n",
    "    include_top=False)\n",
    "inception_resnetV2_model.trainable = False\n",
    "\n",
    "inception_resnetV2_model = add_top_layers(inception_resnetV2_model, img_shape, num_classes)"
   ]
  },
  {
   "cell_type": "code",
   "execution_count": 27,
   "id": "56626d81",
   "metadata": {},
   "outputs": [
    {
     "name": "stdout",
     "output_type": "stream",
     "text": [
      "944/944 [==============================] - 278s 288ms/step - loss: 0.7250 - binary_accuracy: 0.9955 - val_loss: 0.5245 - val_binary_accuracy: 0.9980\n"
     ]
    }
   ],
   "source": [
    "inception_resnetV2_model.compile(optimizer='adam', loss=tf.keras.losses.BinaryCrossentropy(from_logits=True),metrics=keras.metrics.BinaryAccuracy())\n",
    "hist7= inception_resnetV2_model.fit(X_train, y_train,epochs=1,validation_data=(X_test,y_test), callbacks=[modelcheckpoint_inceptionResNetV2])"
   ]
  }
 ],
 "metadata": {
  "kernelspec": {
   "display_name": "Python 3 (ipykernel)",
   "language": "python",
   "name": "python3"
  },
  "language_info": {
   "codemirror_mode": {
    "name": "ipython",
    "version": 3
   },
   "file_extension": ".py",
   "mimetype": "text/x-python",
   "name": "python",
   "nbconvert_exporter": "python",
   "pygments_lexer": "ipython3",
   "version": "3.8.10"
  }
 },
 "nbformat": 4,
 "nbformat_minor": 5
}
